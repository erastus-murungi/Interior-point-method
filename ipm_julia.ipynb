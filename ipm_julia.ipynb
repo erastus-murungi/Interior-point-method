{
 "cells": [
  {
   "cell_type": "markdown",
   "metadata": {},
   "source": [
    "Interior-point method for linear programming\n",
    "The *interior-point* method uses the primal-dual path following algorithm\n",
    "outlined in [1]_. This algorithm supports sparse constraint matrices and\n",
    "is typically faster than the simplex methods, especially for large, sparse\n",
    "problems. Note, however, that the solution returned may be slightly less\n",
    "accurate than those of the simplex methods and will not, in general,\n",
    "correspond with a vertex of the polytope defined by the constraints.\n",
    "\n",
    "References\n",
    "----------\n",
    "[1] Andersen, Erling D., and Knud D. Andersen. \"The MOSEK interior point\n",
    "       optimizer for linear programming: an implementation of the\n",
    "       homogeneous algorithm.\" High performance optimization. Springer US,\n",
    "       2000. 197-232."
   ]
  },
  {
   "cell_type": "markdown",
   "metadata": {},
   "source": [
    "## Solving Linear Programs using Interior Point Methods\n",
    "\n",
    "The main idea of the primal-dual method is to solve this set of non-linear equations for a decreasing set of $\\mu$. A solution to the equations when $\\mu = 0$ is a complementary solution.\n",
    "\n",
    "\\begin{align}\n",
    "    Ax - b\\tau &= 0 \\\\\n",
    "    A^T y + z - c\\tau &= 0 \\\\\n",
    "    -c^Tx + b^Ty - \\kappa  &= 0 \\\\\n",
    "    Xz - \\mu \\textbf{e} &= 0 \\\\\n",
    "    \\tau \\kappa - \\mu &= 0 \\\\\n",
    "\\end{align}\n",
    "\n",
    "Where:\n",
    "\\begin{align}\n",
    "    x \\in \\mathbb{R} ^n & \\succcurlyeq 0 \\\\\n",
    "    z \\in \\mathbb{R} ^n & \\succcurlyeq 0 \\\\\n",
    "    \\tau \\in \\mathbb{R} & \\geq 0 \\\\\n",
    "    \\kappa \\in \\mathbb{R} & \\geq 0 \\\\\n",
    "    \\mu \\in \\mathbb{R} & \\geq 0 \\\\\n",
    "    y \\in \\mathbb{R} ^m & \\quad \\text{free} \\\\ \n",
    "    A &: \\mathbb{R}^n \\rightarrow \\mathbb{R} ^m \\quad \\text{A is an $m$ x $n$ matrix}\\\\\n",
    "    b &: \\mathbb{R}^m \\\\\n",
    "    c &: \\mathbb{R}^n \\\\\n",
    "    x &: \\mathbb{R}^n \\quad \\text{the decision variable we are optimizing for} \\\\\n",
    "    X &: \\mathbb{R}^n \\rightarrow \\mathbb{R} ^n \\quad \\text{X is an $n$ x $n$ diagonal matrix with $x_i$ on the diagonal } \\\\\n",
    "    \\textbf{e} \\in \\mathbb{R}^n&: \\text{A column vector of 1's} \\\\\n",
    "\\end{align}\n"
   ]
  },
  {
   "cell_type": "code",
   "execution_count": 27,
   "metadata": {},
   "outputs": [],
   "source": [
    "using LinearAlgebra\n",
    "using Statistics\n",
    "using Formatting"
   ]
  },
  {
   "cell_type": "code",
   "execution_count": 28,
   "metadata": {},
   "outputs": [
    {
     "data": {
      "text/plain": [
       "get_solver (generic function with 1 method)"
      ]
     },
     "execution_count": 28,
     "metadata": {},
     "output_type": "execute_result"
    }
   ],
   "source": [
    "function get_solver(M)\n",
    "    (r) -> M \\ r\n",
    "end"
   ]
  },
  {
   "cell_type": "code",
   "execution_count": 29,
   "metadata": {},
   "outputs": [
    {
     "data": {
      "text/plain": [
       "initial_start (generic function with 1 method)"
      ]
     },
     "execution_count": 29,
     "metadata": {},
     "output_type": "execute_result"
    }
   ],
   "source": [
    "function initial_start(m, n)\n",
    "    x₀ = ones(n)\n",
    "    y₀ = zeros(m)\n",
    "    z₀ = ones(n)\n",
    "    τ₀ = 1\n",
    "    κ₀ = 1\n",
    "    return x₀, y₀, z₀, τ₀, κ₀\n",
    "end"
   ]
  },
  {
   "cell_type": "code",
   "execution_count": 30,
   "metadata": {},
   "outputs": [
    {
     "data": {
      "text/plain": [
       "η₁ (generic function with 1 method)"
      ]
     },
     "execution_count": 30,
     "metadata": {},
     "output_type": "execute_result"
    }
   ],
   "source": [
    "η₁(γ) = (1 - γ)"
   ]
  },
  {
   "cell_type": "code",
   "execution_count": 31,
   "metadata": {},
   "outputs": [
    {
     "data": {
      "text/plain": [
       "get_gamma (generic function with 1 method)"
      ]
     },
     "execution_count": 31,
     "metadata": {},
     "output_type": "execute_result"
    }
   ],
   "source": [
    "β = 0.1\n",
    "get_gamma(z, x) = β * mean(z .* x)"
   ]
  },
  {
   "cell_type": "code",
   "execution_count": 32,
   "metadata": {},
   "outputs": [
    {
     "data": {
      "text/plain": [
       "get_step (generic function with 1 method)"
      ]
     },
     "execution_count": 32,
     "metadata": {},
     "output_type": "execute_result"
    }
   ],
   "source": [
    "function get_step(x, dx, z, dz, τ, dtau, κ, dkappa, α₀)\n",
    "    ix = dx .< 0\n",
    "    iz = dz .< 0\n",
    "    \n",
    "    αx     = α₀ * (any(ix) ? minimum(x[ix] ./ -dx[ix]) : 1)\n",
    "    αtau   = α₀ * (dtau < 0 ? τ / -dtau : 1)\n",
    "    αz     = α₀ * (any(iz) ? minimum(z[iz] ./ -dz[iz]) : 1)\n",
    "    αkappa = α₀ * (dkappa < 0 ? κ / -dkappa : 1)\n",
    "    \n",
    "    α = min(1, αx, αtau, αz, αkappa)\n",
    "    return α\n",
    "end"
   ]
  },
  {
   "cell_type": "markdown",
   "metadata": {},
   "source": [
    "Assuming an initial solution $(x, \\tau, y, z, \\kappa)$ where $(x, \\tau, z, \\kappa) > 0$, then search direction is defined by the following set of linear equations.\n",
    "\n",
    "\\begin{align}\n",
    "    Ad_x  - bd_{\\tau} &= \\eta r_p \\\\\n",
    "    A^Td_y + d_z - cd_{\\tau} &= \\eta r_d \\\\\n",
    "    -c^Tx + b^Ty - \\kappa &= 0 \\\\\n",
    "    Xz &= \\mu \\textbf{e} \\\\\n",
    "    \\tau \\kappa &= \\mu \\\\\n",
    "\\end{align}\n",
    "\n",
    "and:\n",
    "\\begin{align}\n",
    "    Zd_x + Xd_z &= -Xz + \\gamma \\mu \\textbf{e} \\\\\n",
    "    \\kappa d_{\\tau} + \\tau d_{\\kappa} &= -\\tau \\kappa + \\gamma \\mu \\\\\n",
    "\\end{align}\n",
    "\n",
    "where:\n",
    "\\begin{align}\n",
    "    r_p &:= b \\tau - Ax = -(Ax - b \\tau) \\\\\n",
    "    r_d &:= c \\tau - A^Ty - z = - (A^Ty + z - c \\tau)\\\\\n",
    "    r_g &:= \\kappa + c^Tx - b^Ty = - (b^Ty - c^Tx - \\kappa) \\\\\n",
    "    \\mu &:= \\begin{bmatrix} x \\\\ \\tau \\end{bmatrix}^T \\begin{bmatrix} z \\\\ \\kappa \\end{bmatrix}  \\div (n+1)\\\\\n",
    "\\end{align}\n",
    "\n",
    "$\\gamma$ and $\\eta$ are two nonnegative parameters. If $\\gamma = \\eta = 1$ the search direction defined above is equivalent to one newton step.\n",
    "\n",
    "In each iteration, the Newton equation system below is solved:\n",
    " \n",
    "$$\\begin{bmatrix} A & -b &       &     &   &      \\\\  \n",
    "                      & -c     & A^T & I &      \\\\ \n",
    "                 -c^T &        & b^T &   & -1   \\\\\n",
    "                 Z    &        &     & X &      \\\\\n",
    "                      & \\kappa &     &   & \\tau\n",
    "\\end{bmatrix} \\begin{bmatrix}\n",
    "    d_x \\\\\n",
    "    d_{\\tau} \\\\\n",
    "    d_y \\\\\n",
    "    d_z \\\\\n",
    "    d_{\\kappa}\n",
    "\\end{bmatrix}  = \\begin{bmatrix}\n",
    "    \\hat r_p \\\\\n",
    "    \\hat r_d \\\\\n",
    "    \\hat r_g \\\\\n",
    "    \\hat r_{xz} \\\\\n",
    "    \\hat r_{\\tau \\kappa}\n",
    "\\end{bmatrix} $$\n",
    "\n",
    "Where:\n",
    "\\begin{align}\n",
    "        \\hat r_p &:= (1 - \\gamma) r_p \\\\\n",
    "        \\hat r_d &:= (1 - \\gamma) r_d \\\\\n",
    "        \\hat r_g &:= (1 - \\gamma) r_g \\\\ \n",
    "        \\hat r_{xz} &:= \\gamma \\mu - xz \\\\\n",
    "        \\hat r_{\\tau \\kappa} &:= \\gamma \\mu - \\tau \\kappa \\\\\n",
    "\\end{align}"
   ]
  },
  {
   "cell_type": "code",
   "execution_count": 33,
   "metadata": {},
   "outputs": [
    {
     "data": {
      "text/plain": [
       "get_delta (generic function with 1 method)"
      ]
     },
     "execution_count": 33,
     "metadata": {},
     "output_type": "execute_result"
    }
   ],
   "source": [
    "function get_delta(A, b, c, x, y, z, τ, κ, γ, η)\n",
    "    m, n = size(A)\n",
    "    \n",
    "    rp = b*τ- A*x\n",
    "    rd = c*τ - A'*y - z\n",
    "    rg = κ + c'*x - b'*y\n",
    "    \n",
    "    μ = (x ⋅ z + τ*κ) / (n + 1)\n",
    "    \n",
    "    dinv = x ./ z\n",
    "    # M is symmetric\n",
    "    M = A * diagm(dinv) * A'    \n",
    "    solve = get_solver(M)\n",
    "    \n",
    "    α, dx, dz, dtau, dkappa = 0, 0, 0, 0, 0\n",
    "    dy = missing\n",
    "    \n",
    "    for iteration in 1:2\n",
    "        r⁺p = η(γ) * rp\n",
    "        r⁺d = η(γ) * rd\n",
    "        r⁺g = η(γ) * rg\n",
    "\n",
    "        r⁺xz = γ*μ .- x.*z\n",
    "        r⁺τκ = γ*μ .- τ*κ\n",
    "        \n",
    "        if iteration == 2\n",
    "            r⁺xz -= dx .* dz\n",
    "            r⁺τκ -= dtau .* dkappa\n",
    "        end\n",
    "\n",
    "        # solve\n",
    "        p, q = sym_solve(dinv, A, c, b, solve)\n",
    "\n",
    "        if any(isnan.(p)) || any(isnan.(q))\n",
    "            throw(DomainError(\"p, q have NaNs\"))\n",
    "        end\n",
    "\n",
    "        u, v = sym_solve(dinv, A, r⁺d - (((1) ./ x) .* r⁺xz), r⁺p, solve)\n",
    "\n",
    "        dtau = (r⁺g + ((1 / τ).* r⁺τκ) - (-c ⋅ u + b ⋅ v)) / (((1) ./ (τ*κ)) + (-c ⋅ p + b ⋅ q))\n",
    "        dx = u + p .* dtau\n",
    "        dy = v + q .* dtau\n",
    "        dz = (1 ./ x) .* (r⁺xz - z .* dx)\n",
    "        dkappa = 1 ./ τ .* (r⁺τκ - κ .* dtau)\n",
    "        \n",
    "        α = get_step(x, dx, z, dz, τ, dtau, κ, dkappa, 1)\n",
    "        \n",
    "        β₁ = 0.1\n",
    "        γ = (1 - α)^2 * min(β₁, 1 - α)\n",
    "    end\n",
    "    return dx, dy, dz, dtau, dkappa\n",
    "end"
   ]
  },
  {
   "cell_type": "markdown",
   "metadata": {},
   "source": [
    "$$\\begin{bmatrix}\n",
    "    -X^{-1}S & A^T \\\\\n",
    "    A & \\\\\n",
    "\\end{bmatrix} \\begin{bmatrix}\n",
    "    u\\\\\n",
    "    v \n",
    "\\end{bmatrix} = \\begin{bmatrix}\n",
    "    r_1 \\\\\n",
    "    r_2\n",
    "\\end{bmatrix}\n",
    "$$"
   ]
  },
  {
   "cell_type": "code",
   "execution_count": 34,
   "metadata": {},
   "outputs": [
    {
     "data": {
      "text/plain": [
       "sym_solve (generic function with 1 method)"
      ]
     },
     "execution_count": 34,
     "metadata": {},
     "output_type": "execute_result"
    }
   ],
   "source": [
    "function sym_solve(dinv, A, r₁, r₂, solve)\n",
    "    r = r₂ + A * (dinv .* r₁)\n",
    "    v = solve(r)\n",
    "    u = dinv .* (A'*v - r₁)\n",
    "    return u, v\n",
    "end "
   ]
  },
  {
   "cell_type": "markdown",
   "metadata": {},
   "source": [
    "After the search direction has been computed the variables are updated using\n",
    "$$(x^+, \\tau^+, y^+, s^+, \\kappa^+) := (x, \\tau, y, s, \\kappa) + \\alpha (d_x, d_{\\tau}, d_y, d_s, d_{\\kappa})$$\n",
    "\n",
    "$\\eta = 1 - \\gamma$"
   ]
  },
  {
   "cell_type": "code",
   "execution_count": 35,
   "metadata": {},
   "outputs": [
    {
     "data": {
      "text/plain": [
       "do_step (generic function with 1 method)"
      ]
     },
     "execution_count": 35,
     "metadata": {},
     "output_type": "execute_result"
    }
   ],
   "source": [
    "function do_step(x, y, z, τ, κ, dx, dy, dz, dtau, dkappa, α)\n",
    "    x = x + α*dx\n",
    "    y = y + α*dy\n",
    "    z = z + α*dz\n",
    "    τ = τ + α*dtau\n",
    "    κ = κ + α*dkappa\n",
    "    return x, y, z, τ, κ\n",
    "end "
   ]
  },
  {
   "cell_type": "code",
   "execution_count": 36,
   "metadata": {},
   "outputs": [
    {
     "data": {
      "text/plain": [
       "get_indicators (generic function with 1 method)"
      ]
     },
     "execution_count": 36,
     "metadata": {},
     "output_type": "execute_result"
    }
   ],
   "source": [
    "function get_indicators(A, b, c, x, y, z, τ, κ)\n",
    "    m, n = size(A)\n",
    "    x₀, y₀, z₀, τ₀, κ₀ = initial_start(m, n)\n",
    "    \n",
    "    rp(x, τ)      = b*τ - A*x\n",
    "    rd(y, z, τ)   = c*τ - A'*y - z\n",
    "    rg(x, y, κ)   = κ + c⋅x - b⋅y\n",
    "    μ(x, τ, z, κ) = (x⋅z + τ*κ) / (n+1)\n",
    "    \n",
    "    fx = c ⋅ (x / τ)\n",
    "    \n",
    "    rp₀ = rp(x₀, τ₀)\n",
    "    rd₀ = rd(y₀, z₀, τ₀)\n",
    "    rg₀ = rg(x₀, y₀, κ₀)\n",
    "    μ₀  =  μ(x₀, τ₀, z₀, κ₀)\n",
    "    \n",
    "\n",
    "    ρp = norm(rp(x, τ)) / max(1, norm(rp₀))\n",
    "    ρd = norm(rd(y, z, τ)) / max(1, norm(rd₀))\n",
    "    ρA = norm(c'⋅x - b'⋅y) / (τ + norm(b'⋅y))\n",
    "    ρg = norm(rg(x, y, κ)) / max(1, norm(rg₀))\n",
    "    ρμ = μ(x, τ, z, κ) / μ₀\n",
    "    \n",
    "    return ρp, ρd, ρA, ρg, ρμ, fx\n",
    "end\n",
    "    "
   ]
  },
  {
   "cell_type": "code",
   "execution_count": 37,
   "metadata": {},
   "outputs": [
    {
     "data": {
      "text/plain": [
       "display_iteration (generic function with 1 method)"
      ]
     },
     "execution_count": 37,
     "metadata": {},
     "output_type": "execute_result"
    }
   ],
   "source": [
    "function display_iteration(ρp, ρd, ρg, α, ρμ, fx; header=true)\n",
    "    if header\n",
    "        println(\"Primal Feasibility \",\n",
    "                \"Dual Feasibility   \",\n",
    "                \"Duality Gap        \",\n",
    "                \"Step             \",\n",
    "                \"Path Parameter     \",\n",
    "                \"Objective          \")\n",
    "    end\n",
    "    \n",
    "    s = format(\"{1:<19.12f}{2:<19.12f}{3:<19.12f}{4:<17.12f}{5:<19.12f}{6:<20.12f}\", ρp, ρd, ρg, α, ρμ, fx)\n",
    "    println(s)\n",
    "end"
   ]
  },
  {
   "cell_type": "code",
   "execution_count": 38,
   "metadata": {},
   "outputs": [
    {
     "data": {
      "text/plain": [
       "get_message (generic function with 1 method)"
      ]
     },
     "execution_count": 38,
     "metadata": {},
     "output_type": "execute_result"
    }
   ],
   "source": [
    "function get_message(status)\n",
    "    \"\"\"\n",
    "    Given problem status code, return a more detailed message.\n",
    "    Parameters\n",
    "    ----------\n",
    "    status : int\n",
    "        An integer representing the exit status of the optimization::\n",
    "         0 : Optimization terminated successfully\n",
    "         1 : Iteration limit reached\n",
    "         2 : Problem appears to be infeasible\n",
    "         3 : Problem appears to be unbounded\n",
    "         4 : Serious numerical difficulties encountered\n",
    "    Returns\n",
    "    -------\n",
    "    message : str\n",
    "        A string descriptor of the exit status of the optimization.\n",
    "    \"\"\"\n",
    "    messages =\n",
    "        [\"Optimization terminated successfully.\"\n",
    "        \n",
    "         \"The iteration limit was reached before the algorithm converged.\"\n",
    "        \n",
    "         \"The algorithm terminated successfully and determined that the \"\n",
    "         \"problem is infeasible.\"\n",
    "        \n",
    "         \"The algorithm terminated successfully and determined that the \"\n",
    "         \"problem is unbounded.\"\n",
    "         ]\n",
    "    return messages[status + 1]\n",
    "end"
   ]
  },
  {
   "cell_type": "code",
   "execution_count": 39,
   "metadata": {},
   "outputs": [
    {
     "data": {
      "text/plain": [
       "ip_solve (generic function with 1 method)"
      ]
     },
     "execution_count": 39,
     "metadata": {},
     "output_type": "execute_result"
    }
   ],
   "source": [
    "function ip_solve(A, b, c ;α₀=.99995, β=0.1, maxiter=1000, disp=false, tol=1e-8)\n",
    "    m, n = size(A)\n",
    "    \n",
    "    iteration = 0\n",
    "    status = 0\n",
    "    \n",
    "    x, y, z, τ, κ = initial_start(m, n)\n",
    "    \n",
    "    ρp, ρd, ρA, ρg, ρμ, fx = get_indicators(A, b, c, x, y, z, τ, κ)\n",
    "    \n",
    "    solved = ρp <= tol && ρd <= tol && ρA <= tol\n",
    "    \n",
    "    if disp\n",
    "        display_iteration(ρp, ρd, ρg, NaN, ρμ, fx)\n",
    "    end\n",
    "    \n",
    "    while !solved\n",
    "        iteration = iteration + 1\n",
    "        \n",
    "        γ = 0\n",
    "        η(γ) = (1 - γ)\n",
    "            \n",
    "        # try\n",
    "        dx, dy, dz, dtau, dkappa = get_delta(A, b, c, x, y, z, τ, κ, γ, η)\n",
    "    \n",
    "        α = get_step(x, dx, z, dz, τ, dtau, κ, dkappa, α₀)\n",
    "        \n",
    "        x, y, z, τ, κ = do_step(x, y, z, τ, κ, dx, dy, dz, dtau, dkappa, α)\n",
    "        \n",
    "        ρp, ρd, ρA, ρg, ρμ, fx = get_indicators(A, b, c, x, y, z, τ, κ)\n",
    "        \n",
    "        solved = ρp <= tol && ρd <= tol && ρA <= tol\n",
    "        \n",
    "        if disp\n",
    "            display_iteration(ρp, ρd, ρg, α, ρμ, fx, header=false)\n",
    "        end\n",
    "        \n",
    "        c₁ = ρp < tol && ρd < tol && ρg < tol && τ < tol * max(1, κ)\n",
    "        c₂ = ρμ < tol && τ < tol * min(1, κ)\n",
    "        \n",
    "        if c₁ || c₂\n",
    "            status = (b' ⋅ y > tol) ? 2 : 3\n",
    "            break\n",
    "        elseif iteration >= maxiter\n",
    "            status = 1\n",
    "            break\n",
    "        end\n",
    "    end\n",
    "    \n",
    "    x⁺ = x / τ\n",
    "    x⁺[x⁺ .< tol] .= 0.0\n",
    "    z⁺ = z / τ\n",
    "    y⁺ = y / τ\n",
    "    return Dict(\n",
    "        \"status\"=>status,\n",
    "        \"message\"=>get_message(status),\n",
    "        \"x\"=>x⁺, \n",
    "        \"z\"=>z⁺, \n",
    "        \"y\"=>y⁺, \n",
    "        \"nit\"=>iteration, \n",
    "        \"objective\"=>c ⋅ x⁺)\n",
    "end"
   ]
  },
  {
   "cell_type": "code",
   "execution_count": 40,
   "metadata": {},
   "outputs": [
    {
     "data": {
      "text/plain": [
       "random_problem (generic function with 1 method)"
      ]
     },
     "execution_count": 40,
     "metadata": {},
     "output_type": "execute_result"
    }
   ],
   "source": [
    "function random_problem(m, n)\n",
    "    A = rand(Float64, (m, m + n))\n",
    "    x = [4 .+ rand(Float64, m); 1 .+ rand(Float64, n)]\n",
    "    z = [1 .+ rand(Float64, m); 1 .+ rand(Float64, n)]\n",
    "    y = rand(Float64, m)\n",
    "    c = A'*y + z\n",
    "    b = A*x\n",
    "    return A, b, c\n",
    "end"
   ]
  },
  {
   "cell_type": "code",
   "execution_count": 41,
   "metadata": {},
   "outputs": [],
   "source": [
    "A, b, c = random_problem(200, 200);"
   ]
  },
  {
   "cell_type": "code",
   "execution_count": 42,
   "metadata": {},
   "outputs": [
    {
     "name": "stdout",
     "output_type": "stream",
     "text": [
      "Primal Feasibility Dual Feasibility   Duality Gap        Step             Path Parameter     Objective          \n",
      "1.000000000000     1.000000000000     1.000000000000     NaN              1.000000000000     19619.546406586251  \n",
      "0.217770449996     0.217770449996     0.217770449996     0.796242788700   0.217770449997     40587.988834993055  \n",
      "0.060750291515     0.060750291515     0.060737357472     0.737056794635   0.060661266841     52217.927388712342  \n",
      "0.023247870334     0.023247870334     0.023224375244     0.637992867151   0.023149267569     56002.372370821933  \n",
      "0.008473066772     0.008473066772     0.008452896432     0.648526217210   0.008413759036     57687.733592616627  \n",
      "0.002604898234     0.002604898234     0.002597350602     0.708165194052   0.002602635462     58376.379887728443  \n",
      "0.000949609324     0.000949609324     0.000946858835     0.645341768797   0.000952750255     58570.944751614064  \n",
      "0.000381712139     0.000381712139     0.000380606078     0.610901158158   0.000383577479     58637.710374045419  \n",
      "0.000089762446     0.000089762446     0.000089502804     0.790463796633   0.000090275671     58672.016690626901  \n",
      "0.000016590470     0.000016590470     0.000016542456     0.825759546984   0.000016689098     58680.616217983261  \n",
      "0.000002301121     0.000002301121     0.000002294465     0.868349393420   0.000002314888     58682.295990098995  \n",
      "0.000000131303     0.000000131303     0.000000130923     0.956538995840   0.000000132088     58682.551039023056  \n",
      "0.000000000094     0.000000000094     0.000000000094     0.999285566868   0.000000000095     58682.566464827549  \n",
      "  5.516662 seconds (7.43 M allocations: 438.415 MiB, 3.71% gc time, 98.40% compilation time)\n"
     ]
    }
   ],
   "source": [
    "@time res = ip_solve(A, b, c, disp=true, tol=1e-8);"
   ]
  },
  {
   "cell_type": "code",
   "execution_count": 43,
   "metadata": {},
   "outputs": [
    {
     "data": {
      "text/plain": [
       "Dict{String, Any} with 7 entries:\n",
       "  \"nit\"       => 12\n",
       "  \"status\"    => 0\n",
       "  \"message\"   => \"Optimization terminated successfully.\"\n",
       "  \"x\"         => [7.46029, 8.68788, 4.6637, 4.03119, 2.17568, 0.0, 3.96394, 1.8…\n",
       "  \"objective\" => 58682.6\n",
       "  \"z\"         => [1.01508e-10, 7.64187e-11, 1.6642e-10, 1.96102e-10, 4.62408e-1…\n",
       "  \"y\"         => [0.225053, 0.107913, 0.710078, 0.0676229, 0.955597, 0.699809, …"
      ]
     },
     "execution_count": 43,
     "metadata": {},
     "output_type": "execute_result"
    }
   ],
   "source": [
    "res"
   ]
  },
  {
   "cell_type": "code",
   "execution_count": 44,
   "metadata": {},
   "outputs": [
    {
     "data": {
      "text/plain": [
       "-5.502055358874713e-6"
      ]
     },
     "execution_count": 44,
     "metadata": {},
     "output_type": "execute_result"
    }
   ],
   "source": [
    "sum(A' * get(res, \"y\", nothing) + get(res, \"z\", nothing) - c)"
   ]
  },
  {
   "cell_type": "code",
   "execution_count": 45,
   "metadata": {},
   "outputs": [
    {
     "data": {
      "text/plain": [
       "-7.36327815502591e-5"
      ]
     },
     "execution_count": 45,
     "metadata": {},
     "output_type": "execute_result"
    }
   ],
   "source": [
    "sum(A * get(res, \"x\", nothing) - b)"
   ]
  },
  {
   "cell_type": "code",
   "execution_count": 47,
   "metadata": {},
   "outputs": [],
   "source": [
    "using Cbc\n",
    "using JuMP"
   ]
  },
  {
   "cell_type": "code",
   "execution_count": 48,
   "metadata": {},
   "outputs": [],
   "source": [
    "m = Model(Cbc.Optimizer);"
   ]
  },
  {
   "cell_type": "code",
   "execution_count": 49,
   "metadata": {},
   "outputs": [
    {
     "data": {
      "text/plain": [
       "(200, 400)"
      ]
     },
     "execution_count": 49,
     "metadata": {},
     "output_type": "execute_result"
    }
   ],
   "source": [
    "_, n = size(A)"
   ]
  },
  {
   "cell_type": "code",
   "execution_count": 50,
   "metadata": {},
   "outputs": [],
   "source": [
    "@variable(m, x[1:n]);"
   ]
  },
  {
   "cell_type": "code",
   "execution_count": 51,
   "metadata": {},
   "outputs": [],
   "source": [
    "@objective(m, Min, c ⋅ x);"
   ]
  },
  {
   "cell_type": "code",
   "execution_count": 52,
   "metadata": {},
   "outputs": [],
   "source": [
    "@constraint(m, c₁, (A*x) .== b)\n",
    "@constraint(m, c₂, x .>= 0);"
   ]
  },
  {
   "cell_type": "code",
   "execution_count": 53,
   "metadata": {},
   "outputs": [
    {
     "name": "stdout",
     "output_type": "stream",
     "text": [
      "Presolve 200 (-400) rows, 400 (0) columns and 80000 (-400) elements\n",
      "0  Obj 0 Primal inf 5300741.8 (200)\n",
      "31  Obj 45847.826 Primal inf 30316458 (196)\n",
      "83  Obj 53539.751 Primal inf 2340840.5 (157)\n",
      "126  Obj 55811.477 Primal inf 962585.1 (142)\n",
      "169  Obj 56770.95 Primal inf 2672323.6 (141)\n",
      "200  Obj 57261.558 Primal inf 1904078.9 (124)\n",
      "242  Obj 57734.536 Primal inf 657372.54 (112)\n",
      "286  Obj 58166.058 Primal inf 84245.99 (95)\n",
      "317  Obj 58313.826 Primal inf 88982.178 (98)\n",
      "355  Obj 58528.164 Primal inf 16541.057 (98)\n",
      "398  Obj 58620.818 Primal inf 14652.96 (96)\n",
      "442  Obj 58667.88 Primal inf 1369.7812 (79)\n",
      "488  Obj 58679.943 Primal inf 1310.5288 (73)\n",
      "534  Obj 58682.566\n",
      "Optimal - objective value 58682.566\n",
      "After Postsolve, objective 58682.566, infeasibilities - dual 0 (0), primal 0 (0)\n",
      "Optimal objective 58682.56648 - 534 iterations time 0.342, Presolve 0.01\n"
     ]
    }
   ],
   "source": [
    "optimize!(m)"
   ]
  },
  {
   "cell_type": "code",
   "execution_count": 54,
   "metadata": {},
   "outputs": [
    {
     "data": {
      "text/plain": [
       "58682.5664758392"
      ]
     },
     "execution_count": 54,
     "metadata": {},
     "output_type": "execute_result"
    }
   ],
   "source": [
    "objective_value(m)"
   ]
  },
  {
   "cell_type": "code",
   "execution_count": 55,
   "metadata": {},
   "outputs": [
    {
     "data": {
      "text/plain": [
       "2.6147972675971687e-12"
      ]
     },
     "execution_count": 55,
     "metadata": {},
     "output_type": "execute_result"
    }
   ],
   "source": [
    "sum(A * (value.(x)) - b)"
   ]
  },
  {
   "cell_type": "code",
   "execution_count": 56,
   "metadata": {},
   "outputs": [
    {
     "data": {
      "text/plain": [
       "-7.36327815502591e-5"
      ]
     },
     "execution_count": 56,
     "metadata": {},
     "output_type": "execute_result"
    }
   ],
   "source": [
    "sum(A * get(res, \"x\", 0) - b)"
   ]
  },
  {
   "cell_type": "code",
   "execution_count": 57,
   "metadata": {},
   "outputs": [
    {
     "data": {
      "text/plain": [
       "3.594792360672727e-5"
      ]
     },
     "execution_count": 57,
     "metadata": {},
     "output_type": "execute_result"
    }
   ],
   "source": [
    "objective_value(m) - get(res, \"objective\", Inf)"
   ]
  },
  {
   "cell_type": "code",
   "execution_count": 58,
   "metadata": {},
   "outputs": [
    {
     "data": {
      "text/plain": [
       "400-element Vector{Float64}:\n",
       "  7.460292229237452\n",
       "  8.68787576670859\n",
       "  4.6637044151631\n",
       "  4.031187211901542\n",
       "  2.175681810959172\n",
       "  0.0\n",
       "  3.9639370306622626\n",
       "  1.835790772283989\n",
       "  0.0\n",
       "  0.0\n",
       "  0.0\n",
       "  0.0\n",
       "  1.3051002683103725\n",
       "  ⋮\n",
       "  8.66239052545211\n",
       "  0.0\n",
       "  2.550116424517169\n",
       "  3.775352269927083\n",
       "  0.0\n",
       "  0.0\n",
       "  1.4840818291199445\n",
       "  2.1671105362596603\n",
       " 14.048642510338114\n",
       "  0.0\n",
       "  0.0\n",
       " 15.036671909701367"
      ]
     },
     "execution_count": 58,
     "metadata": {},
     "output_type": "execute_result"
    }
   ],
   "source": [
    "value.(x)"
   ]
  },
  {
   "cell_type": "code",
   "execution_count": null,
   "metadata": {},
   "outputs": [],
   "source": []
  }
 ],
 "metadata": {
  "@webio": {
   "lastCommId": null,
   "lastKernelId": null
  },
  "kernelspec": {
   "display_name": "Julia 1.8.0",
   "language": "julia",
   "name": "julia-1.8"
  },
  "language_info": {
   "file_extension": ".jl",
   "mimetype": "application/julia",
   "name": "julia",
   "version": "1.8.0"
  }
 },
 "nbformat": 4,
 "nbformat_minor": 4
}
