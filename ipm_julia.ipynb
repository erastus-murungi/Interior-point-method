{
 "cells": [
  {
   "cell_type": "markdown",
   "metadata": {},
   "source": [
    "## Solving Linear Programs using Interior Point Methods\n",
    "\n",
    "The main idea of the primal-dual method is to solve this set of non-linear equations for a decreasing set of $\\mu$. A solution to the equations when $\\mu = 0$ is a complementary solution.\n",
    "\n",
    "\\begin{align}\n",
    "    Ax - b\\tau &= 0 \\\\\n",
    "    A^T y + z - c\\tau &= 0 \\\\\n",
    "    -c^Tx + b^Ty - \\kappa  &= 0 \\\\\n",
    "    Xz - \\mu \\textbf{e} &= 0 \\\\\n",
    "    \\tau \\kappa - \\mu &= 0 \\\\\n",
    "\\end{align}\n",
    "\n",
    "Where:\n",
    "\\begin{align}\n",
    "    x \\in \\mathbb{R} ^n & \\succcurlyeq 0 \\\\\n",
    "    z \\in \\mathbb{R} ^n & \\succcurlyeq 0 \\\\\n",
    "    \\tau \\in \\mathbb{R} & \\geq 0 \\\\\n",
    "    \\kappa \\in \\mathbb{R} & \\geq 0 \\\\\n",
    "    \\mu \\in \\mathbb{R} & \\geq 0 \\\\\n",
    "    y \\in \\mathbb{R} ^m & \\quad \\text{free} \\\\ \n",
    "    A &: \\mathbb{R}^n \\rightarrow \\mathbb{R} ^m \\quad \\text{A is an $m$ x $n$ matrix}\\\\\n",
    "    b &: \\mathbb{R}^m \\\\\n",
    "    c &: \\mathbb{R}^n \\\\\n",
    "    x &: \\mathbb{R}^n \\quad \\text{the decision variable we are optimizing for} \\\\\n",
    "    X &: \\mathbb{R}^n \\rightarrow \\mathbb{R} ^n \\quad \\text{X is an $n$ x $n$ diagonal matrix with $x_i$ on the diagonal } \\\\\n",
    "    \\textbf{e} \\in \\mathbb{R}^n&: \\text{A column vector of 1's} \\\\\n",
    "\\end{align}\n"
   ]
  },
  {
   "cell_type": "code",
   "execution_count": 1,
   "metadata": {},
   "outputs": [],
   "source": [
    "using LinearAlgebra\n",
    "using Statistics\n",
    "using Formatting"
   ]
  },
  {
   "cell_type": "code",
   "execution_count": 2,
   "metadata": {},
   "outputs": [
    {
     "data": {
      "text/plain": [
       "get_solver (generic function with 1 method)"
      ]
     },
     "execution_count": 2,
     "metadata": {},
     "output_type": "execute_result"
    }
   ],
   "source": [
    "function get_solver(M)\n",
    "    (r) -> M \\ r\n",
    "end"
   ]
  },
  {
   "cell_type": "code",
   "execution_count": 3,
   "metadata": {},
   "outputs": [
    {
     "data": {
      "text/plain": [
       "initial_start (generic function with 1 method)"
      ]
     },
     "execution_count": 3,
     "metadata": {},
     "output_type": "execute_result"
    }
   ],
   "source": [
    "function initial_start(m, n)\n",
    "    x₀ = ones(n)\n",
    "    y₀ = zeros(m)\n",
    "    z₀ = ones(n)\n",
    "    τ₀ = 1\n",
    "    κ₀ = 1\n",
    "    return x₀, y₀, z₀, τ₀, κ₀\n",
    "end"
   ]
  },
  {
   "cell_type": "code",
   "execution_count": 4,
   "metadata": {},
   "outputs": [
    {
     "data": {
      "text/plain": [
       "η₁ (generic function with 1 method)"
      ]
     },
     "execution_count": 4,
     "metadata": {},
     "output_type": "execute_result"
    }
   ],
   "source": [
    "η₁(γ) = (1 - γ)"
   ]
  },
  {
   "cell_type": "code",
   "execution_count": 5,
   "metadata": {},
   "outputs": [
    {
     "data": {
      "text/plain": [
       "get_gamma (generic function with 1 method)"
      ]
     },
     "execution_count": 5,
     "metadata": {},
     "output_type": "execute_result"
    }
   ],
   "source": [
    "β = 0.1\n",
    "get_gamma(z, x) = β * mean(z .* x)"
   ]
  },
  {
   "cell_type": "code",
   "execution_count": 6,
   "metadata": {},
   "outputs": [
    {
     "data": {
      "text/plain": [
       "get_step (generic function with 1 method)"
      ]
     },
     "execution_count": 6,
     "metadata": {},
     "output_type": "execute_result"
    }
   ],
   "source": [
    "function get_step(x, dx, z, dz, τ, dtau, κ, dkappa, α₀)\n",
    "    ix = dx .< 0\n",
    "    iz = dz .< 0\n",
    "    \n",
    "    αx     = α₀ * (any(ix) ? minimum(x[ix] ./ -dx[ix]) : 1)\n",
    "    αtau   = α₀ * (dtau < 0 ? τ / -dtau : 1)\n",
    "    αz     = α₀ * (any(iz) ? minimum(z[iz] ./ -dz[iz]) : 1)\n",
    "    αkappa = α₀ * (dkappa < 0 ? κ / -dkappa : 1)\n",
    "    \n",
    "    α = min(1, αx, αtau, αz, αkappa)\n",
    "    return α\n",
    "end"
   ]
  },
  {
   "cell_type": "markdown",
   "metadata": {},
   "source": [
    "Assuming an initial solution $(x, \\tau, y, z, \\kappa)$ where $(x, \\tau, z, \\kappa) > 0$, then search direction is defined by the following set of linear equations.\n",
    "\n",
    "\\begin{align}\n",
    "    Ad_x  - bd_{\\tau} &= \\eta r_p \\\\\n",
    "    A^Td_y + d_z - cd_{\\tau} &= \\eta r_d \\\\\n",
    "    -c^Tx + b^Ty - \\kappa &= 0 \\\\\n",
    "    Xz &= \\mu \\textbf{e} \\\\\n",
    "    \\tau \\kappa &= \\mu \\\\\n",
    "\\end{align}\n",
    "\n",
    "and:\n",
    "\\begin{align}\n",
    "    Zd_x + Xd_z &= -Xz + \\gamma \\mu \\textbf{e} \\\\\n",
    "    \\kappa d_{\\tau} + \\tau d_{\\kappa} &= -\\tau \\kappa + \\gamma \\mu \\\\\n",
    "\\end{align}\n",
    "\n",
    "where:\n",
    "\\begin{align}\n",
    "    r_p &:= b \\tau - Ax = -(Ax - b \\tau) \\\\\n",
    "    r_d &:= c \\tau - A^Ty - z = - (A^Ty + z - c \\tau)\\\\\n",
    "    r_g &:= \\kappa + c^Tx - b^Ty = - (b^Ty - c^Tx - \\kappa) \\\\\n",
    "    \\mu &:= \\begin{bmatrix} x \\\\ \\tau \\end{bmatrix}^T \\begin{bmatrix} z \\\\ \\kappa \\end{bmatrix}  \\div (n+1)\\\\\n",
    "\\end{align}\n",
    "\n",
    "$\\gamma$ and $\\eta$ are two nonnegative parameters. If $\\gamma = \\eta = 1$ the search direction defined above is equivalent to one newton step.\n",
    "\n",
    "In each iteration, the Newton equation system below is solved:\n",
    " \n",
    "$$\\begin{bmatrix} A & -b &       &     &   &      \\\\  \n",
    "                      & -c     & A^T & I &      \\\\ \n",
    "                 -c^T &        & b^T &   & -1   \\\\\n",
    "                 Z    &        &     & X &      \\\\\n",
    "                      & \\kappa &     &   & \\tau\n",
    "\\end{bmatrix} \\begin{bmatrix}\n",
    "    d_x \\\\\n",
    "    d_{\\tau} \\\\\n",
    "    d_y \\\\\n",
    "    d_z \\\\\n",
    "    d_{\\kappa}\n",
    "\\end{bmatrix}  = \\begin{bmatrix}\n",
    "    \\hat r_p \\\\\n",
    "    \\hat r_d \\\\\n",
    "    \\hat r_g \\\\\n",
    "    \\hat r_{xz} \\\\\n",
    "    \\hat r_{\\tau \\kappa}\n",
    "\\end{bmatrix} $$\n",
    "\n",
    "Where:\n",
    "\\begin{align}\n",
    "        \\hat r_p &:= (1 - \\gamma) r_p \\\\\n",
    "        \\hat r_d &:= (1 - \\gamma) r_d \\\\\n",
    "        \\hat r_g &:= (1 - \\gamma) r_g \\\\ \n",
    "        \\hat r_{xz} &:= \\gamma \\mu - xz \\\\\n",
    "        \\hat r_{\\tau \\kappa} &:= \\gamma \\mu - \\tau \\kappa \\\\\n",
    "\\end{align}"
   ]
  },
  {
   "cell_type": "code",
   "execution_count": 7,
   "metadata": {},
   "outputs": [
    {
     "data": {
      "text/plain": [
       "get_delta (generic function with 1 method)"
      ]
     },
     "execution_count": 7,
     "metadata": {},
     "output_type": "execute_result"
    }
   ],
   "source": [
    "function get_delta(A, b, c, x, y, z, τ, κ, γ, η)\n",
    "    m, n = size(A)\n",
    "    \n",
    "    rp = b*τ- A*x\n",
    "    rd = c*τ - A'*y - z\n",
    "    rg = κ + c'*x - b'*y\n",
    "    \n",
    "    μ = (x ⋅ z + τ*κ) / (n + 1)\n",
    "    \n",
    "    dinv = x ./ z\n",
    "    # M is symmetric\n",
    "    M = A * diagm(dinv) * A'    \n",
    "    solve = get_solver(M)\n",
    "    \n",
    "    α, dx, dz, dtau, dkappa = 0, 0, 0, 0, 0\n",
    "    dy = missing\n",
    "    \n",
    "    for iteration in 1:2\n",
    "        r⁺p = η(γ) * rp\n",
    "        r⁺d = η(γ) * rd\n",
    "        r⁺g = η(γ) * rg\n",
    "\n",
    "        r⁺xz = γ*μ .- x.*z\n",
    "        r⁺τκ = γ*μ .- τ*κ\n",
    "        \n",
    "        if iteration == 2\n",
    "            r⁺xz -= dx .* dz\n",
    "            r⁺τκ -= dtau .* dkappa\n",
    "        end\n",
    "\n",
    "        # solve\n",
    "        p, q = sym_solve(dinv, A, c, b, solve)\n",
    "\n",
    "        if any(isnan.(p)) || any(isnan.(q))\n",
    "            throw(DomainError(\"p, q have NaNs\"))\n",
    "        end\n",
    "\n",
    "        u, v = sym_solve(dinv, A, r⁺d - (((1) ./ x) .* r⁺xz), r⁺p, solve)\n",
    "\n",
    "        dtau = (r⁺g + ((1 / τ).* r⁺τκ) - (-c ⋅ u + b ⋅ v)) / (((1) ./ (τ*κ)) + (-c ⋅ p + b ⋅ q))\n",
    "        dx = u + p .* dtau\n",
    "        dy = v + q .* dtau\n",
    "        dz = (1 ./ x) .* (r⁺xz - z .* dx)\n",
    "        dkappa = 1 ./ τ .* (r⁺τκ - κ .* dtau)\n",
    "        \n",
    "        α = get_step(x, dx, z, dz, τ, dtau, κ, dkappa, 1)\n",
    "        \n",
    "        β₁ = 0.1\n",
    "        γ = (1 - α)^2 * min(β₁, 1 - α)\n",
    "    end\n",
    "    return dx, dy, dz, dtau, dkappa\n",
    "end"
   ]
  },
  {
   "cell_type": "markdown",
   "metadata": {},
   "source": [
    "$$\\begin{bmatrix}\n",
    "    -X^{-1}S & A^T \\\\\n",
    "    A & \\\\\n",
    "\\end{bmatrix} \\begin{bmatrix}\n",
    "    u\\\\\n",
    "    v \n",
    "\\end{bmatrix} = \\begin{bmatrix}\n",
    "    r_1 \\\\\n",
    "    r_2\n",
    "\\end{bmatrix}\n",
    "$$"
   ]
  },
  {
   "cell_type": "code",
   "execution_count": 8,
   "metadata": {},
   "outputs": [
    {
     "data": {
      "text/plain": [
       "sym_solve (generic function with 1 method)"
      ]
     },
     "execution_count": 8,
     "metadata": {},
     "output_type": "execute_result"
    }
   ],
   "source": [
    "function sym_solve(dinv, A, r₁, r₂, solve)\n",
    "    r = r₂ + A * (dinv .* r₁)\n",
    "    v = solve(r)\n",
    "    u = dinv .* (A'*v - r₁)\n",
    "    return u, v\n",
    "end "
   ]
  },
  {
   "cell_type": "markdown",
   "metadata": {},
   "source": [
    "After the search direction has been computed the variables are updated using\n",
    "$$(x^+, \\tau^+, y^+, s^+, \\kappa^+) := (x, \\tau, y, s, \\kappa) + \\alpha (d_x, d_{\\tau}, d_y, d_s, d_{\\kappa})$$\n",
    "\n",
    "$\\eta = 1 - \\gamma$"
   ]
  },
  {
   "cell_type": "code",
   "execution_count": 9,
   "metadata": {},
   "outputs": [
    {
     "data": {
      "text/plain": [
       "do_step (generic function with 1 method)"
      ]
     },
     "execution_count": 9,
     "metadata": {},
     "output_type": "execute_result"
    }
   ],
   "source": [
    "function do_step(x, y, z, τ, κ, dx, dy, dz, dtau, dkappa, α)\n",
    "    x = x + α*dx\n",
    "    y = y + α*dy\n",
    "    z = z + α*dz\n",
    "    τ = τ + α*dtau\n",
    "    κ = κ + α*dkappa\n",
    "    return x, y, z, τ, κ\n",
    "end "
   ]
  },
  {
   "cell_type": "code",
   "execution_count": 10,
   "metadata": {},
   "outputs": [
    {
     "data": {
      "text/plain": [
       "get_indicators (generic function with 1 method)"
      ]
     },
     "execution_count": 10,
     "metadata": {},
     "output_type": "execute_result"
    }
   ],
   "source": [
    "function get_indicators(A, b, c, x, y, z, τ, κ)\n",
    "    m, n = size(A)\n",
    "    x₀, y₀, z₀, τ₀, κ₀ = initial_start(m, n)\n",
    "    \n",
    "    rp(x, τ)      = b*τ - A*x\n",
    "    rd(y, z, τ)   = c*τ - A'*y - z\n",
    "    rg(x, y, κ)   = κ + c⋅x - b⋅y\n",
    "    μ(x, τ, z, κ) = (x⋅z + τ*κ) / (n+1)\n",
    "    \n",
    "    fx = c ⋅ (x / τ)\n",
    "    \n",
    "    rp₀ = rp(x₀, τ₀)\n",
    "    rd₀ = rd(y₀, z₀, τ₀)\n",
    "    rg₀ = rg(x₀, y₀, κ₀)\n",
    "    μ₀  =  μ(x₀, τ₀, z₀, κ₀)\n",
    "    \n",
    "\n",
    "    ρp = norm(rp(x, τ)) / max(1, norm(rp₀))\n",
    "    ρd = norm(rd(y, z, τ)) / max(1, norm(rd₀))\n",
    "    ρA = norm(c'⋅x - b'⋅y) / (τ + norm(b'⋅y))\n",
    "    ρg = norm(rg(x, y, κ)) / max(1, norm(rg₀))\n",
    "    ρμ = μ(x, τ, z, κ) / μ₀\n",
    "    \n",
    "    return ρp, ρd, ρA, ρg, ρμ, fx\n",
    "end\n",
    "    "
   ]
  },
  {
   "cell_type": "code",
   "execution_count": 11,
   "metadata": {},
   "outputs": [
    {
     "data": {
      "text/plain": [
       "display_iteration (generic function with 1 method)"
      ]
     },
     "execution_count": 11,
     "metadata": {},
     "output_type": "execute_result"
    }
   ],
   "source": [
    "function display_iteration(ρp, ρd, ρg, α, ρμ, fx; header=true)\n",
    "    if header\n",
    "        println(\"Primal Feasibility \",\n",
    "                \"Dual Feasibility   \",\n",
    "                \"Duality Gap        \",\n",
    "                \"Step             \",\n",
    "                \"Path Parameter     \",\n",
    "                \"Objective          \")\n",
    "    end\n",
    "    \n",
    "    s = format(\"{1:<19.12f}{2:<19.12f}{3:<19.12f}{4:<17.12f}{5:<19.12f}{6:<20.12f}\", ρp, ρd, ρg, α, ρμ, fx)\n",
    "    println(s)\n",
    "end"
   ]
  },
  {
   "cell_type": "code",
   "execution_count": 12,
   "metadata": {},
   "outputs": [
    {
     "data": {
      "text/plain": [
       "get_message (generic function with 1 method)"
      ]
     },
     "execution_count": 12,
     "metadata": {},
     "output_type": "execute_result"
    }
   ],
   "source": [
    "function get_message(status)\n",
    "    \"\"\"\n",
    "    Given problem status code, return a more detailed message.\n",
    "    Parameters\n",
    "    ----------\n",
    "    status : int\n",
    "        An integer representing the exit status of the optimization::\n",
    "         0 : Optimization terminated successfully\n",
    "         1 : Iteration limit reached\n",
    "         2 : Problem appears to be infeasible\n",
    "         3 : Problem appears to be unbounded\n",
    "         4 : Serious numerical difficulties encountered\n",
    "    Returns\n",
    "    -------\n",
    "    message : str\n",
    "        A string descriptor of the exit status of the optimization.\n",
    "    \"\"\"\n",
    "    messages =\n",
    "        [\"Optimization terminated successfully.\"\n",
    "        \n",
    "         \"The iteration limit was reached before the algorithm converged.\"\n",
    "        \n",
    "         \"The algorithm terminated successfully and determined that the \"\n",
    "         \"problem is infeasible.\"\n",
    "        \n",
    "         \"The algorithm terminated successfully and determined that the \"\n",
    "         \"problem is unbounded.\"\n",
    "         ]\n",
    "    return messages[status + 1]\n",
    "end"
   ]
  },
  {
   "cell_type": "code",
   "execution_count": 13,
   "metadata": {},
   "outputs": [
    {
     "data": {
      "text/plain": [
       "ip_solve (generic function with 1 method)"
      ]
     },
     "execution_count": 13,
     "metadata": {},
     "output_type": "execute_result"
    }
   ],
   "source": [
    "function ip_solve(A, b, c ;α₀=.99995, β=0.1, maxiter=1000, disp=false, tol=1e-8)\n",
    "    m, n = size(A)\n",
    "    \n",
    "    iteration = 0\n",
    "    status = 0\n",
    "    \n",
    "    x, y, z, τ, κ = initial_start(m, n)\n",
    "    \n",
    "    ρp, ρd, ρA, ρg, ρμ, fx = get_indicators(A, b, c, x, y, z, τ, κ)\n",
    "    \n",
    "    solved = ρp <= tol && ρd <= tol && ρA <= tol\n",
    "    \n",
    "    if disp\n",
    "        display_iteration(ρp, ρd, ρg, NaN, ρμ, fx)\n",
    "    end\n",
    "    \n",
    "    while !solved\n",
    "        iteration = iteration + 1\n",
    "        \n",
    "        γ = 0\n",
    "        η(γ) = (1 - γ)\n",
    "            \n",
    "        # try\n",
    "        dx, dy, dz, dtau, dkappa = get_delta(A, b, c, x, y, z, τ, κ, γ, η)\n",
    "    \n",
    "        α = get_step(x, dx, z, dz, τ, dtau, κ, dkappa, α₀)\n",
    "        \n",
    "        x, y, z, τ, κ = do_step(x, y, z, τ, κ, dx, dy, dz, dtau, dkappa, α)\n",
    "        \n",
    "        ρp, ρd, ρA, ρg, ρμ, fx = get_indicators(A, b, c, x, y, z, τ, κ)\n",
    "        \n",
    "        solved = ρp <= tol && ρd <= tol && ρA <= tol\n",
    "        \n",
    "        if disp\n",
    "            display_iteration(ρp, ρd, ρg, α, ρμ, fx, header=false)\n",
    "        end\n",
    "        \n",
    "        c₁ = ρp < tol && ρd < tol && ρg < tol && τ < tol * max(1, κ)\n",
    "        c₂ = ρμ < tol && τ < tol * min(1, κ)\n",
    "        \n",
    "        if c₁ || c₂\n",
    "            status = (b' ⋅ y > tol) ? 2 : 3\n",
    "            break\n",
    "        elseif iteration >= maxiter\n",
    "            status = 1\n",
    "            break\n",
    "        end\n",
    "    end\n",
    "    \n",
    "    x⁺ = x / τ\n",
    "    x⁺[x⁺ .< tol] .= 0.0\n",
    "    z⁺ = z / τ\n",
    "    y⁺ = y / τ\n",
    "    return Dict(\n",
    "        \"status\"=>status,\n",
    "        \"message\"=>get_message(status),\n",
    "        \"x\"=>x⁺, \n",
    "        \"z\"=>z⁺, \n",
    "        \"y\"=>y⁺, \n",
    "        \"nit\"=>iteration, \n",
    "        \"objective\"=>c ⋅ x⁺)\n",
    "end"
   ]
  },
  {
   "cell_type": "code",
   "execution_count": 14,
   "metadata": {},
   "outputs": [
    {
     "data": {
      "text/plain": [
       "random_problem (generic function with 1 method)"
      ]
     },
     "execution_count": 14,
     "metadata": {},
     "output_type": "execute_result"
    }
   ],
   "source": [
    "function random_problem(m, n)\n",
    "    A = rand(Float64, (m, m + n))\n",
    "    x = [4 .+ rand(Float64, m); 1 .+ rand(Float64, n)]\n",
    "    z = [1 .+ rand(Float64, m); 1 .+ rand(Float64, n)]\n",
    "    y = rand(Float64, m)\n",
    "    c = A'*y + z\n",
    "    b = A*x\n",
    "    return A, b, c\n",
    "end"
   ]
  },
  {
   "cell_type": "code",
   "execution_count": 15,
   "metadata": {},
   "outputs": [],
   "source": [
    "A, b, c = random_problem(200, 200);"
   ]
  },
  {
   "cell_type": "code",
   "execution_count": 16,
   "metadata": {},
   "outputs": [
    {
     "name": "stdout",
     "output_type": "stream",
     "text": [
      "Primal Feasibility Dual Feasibility   Duality Gap        Step             Path Parameter     Objective          \n",
      "1.000000000000     1.000000000000     1.000000000000     NaN              1.000000000000     20533.182959508518  \n",
      "0.228500551990     0.228500551990     0.228500551990     0.784507232023   0.228500551990     41945.750251814039  \n",
      "0.082676739047     0.082676739046     0.082665682508     0.654238513156   0.082627866169     52717.113444284478  \n",
      "0.035016790282     0.035016790282     0.034994981328     0.602559619196   0.034956585985     57478.290834853775  \n",
      "0.013180204429     0.013180204429     0.013155961574     0.640235005905   0.013109185222     60026.853497157404  \n",
      "0.004863419666     0.004863419666     0.004850809707     0.649200426658   0.004859384550     61056.837422813092  \n",
      "0.001315070291     0.001315070291     0.001311475781     0.747532619657   0.001322629761     61498.631492461427  \n",
      "0.000331392461     0.000331392461     0.000330490255     0.770193058886   0.000334190707     61620.966457551353  \n",
      "0.000147727466     0.000147727466     0.000147325937     0.564852837830   0.000149047565     61643.824539968329  \n",
      "0.000041520803     0.000041520803     0.000041408099     0.740123763848   0.000041903798     61657.042456922572  \n",
      "0.000007463166     0.000007463166     0.000007442885     0.829302511363   0.000007532330     61661.279266859798  \n",
      "0.000000386010     0.000000386010     0.000000384961     0.952463857200   0.000000389603     61662.159376612603  \n",
      "0.000000000031     0.000000000031     0.000000000031     0.999929439856   0.000000000031     61662.207375540209  \n",
      "  8.272518 seconds (29.25 M allocations: 1.488 GiB, 7.00% gc time)\n"
     ]
    }
   ],
   "source": [
    "@time res = ip_solve(A, b, c, disp=true, tol=1e-8);"
   ]
  },
  {
   "cell_type": "code",
   "execution_count": 17,
   "metadata": {},
   "outputs": [
    {
     "data": {
      "text/plain": [
       "Dict{String,Any} with 7 entries:\n",
       "  \"nit\"       => 12\n",
       "  \"status\"    => 0\n",
       "  \"message\"   => \"Optimization terminated successfully.\"\n",
       "  \"x\"         => [7.44223, 2.27532, 1.00084, 5.49962, 0.0, 11.0108, 6.59475, 0.…\n",
       "  \"objective\" => 61662.2\n",
       "  \"z\"         => [4.38897e-11, 1.18969e-10, 1.96286e-10, 7.95298e-11, 0.611997,…\n",
       "  \"y\"         => [0.467225, 0.673809, 0.396829, 0.471738, 0.52464, 0.497452, 0.…"
      ]
     },
     "execution_count": 17,
     "metadata": {},
     "output_type": "execute_result"
    }
   ],
   "source": [
    "res"
   ]
  },
  {
   "cell_type": "code",
   "execution_count": 18,
   "metadata": {},
   "outputs": [
    {
     "data": {
      "text/plain": [
       "-1.8981253262495557e-6"
      ]
     },
     "execution_count": 18,
     "metadata": {},
     "output_type": "execute_result"
    }
   ],
   "source": [
    "sum(A' * get(res, \"y\", nothing) + get(res, \"z\", nothing) - c)"
   ]
  },
  {
   "cell_type": "code",
   "execution_count": 19,
   "metadata": {},
   "outputs": [
    {
     "data": {
      "text/plain": [
       "-2.822988392381376e-5"
      ]
     },
     "execution_count": 19,
     "metadata": {},
     "output_type": "execute_result"
    }
   ],
   "source": [
    "sum(A * get(res, \"x\", nothing) - b)"
   ]
  },
  {
   "cell_type": "code",
   "execution_count": 20,
   "metadata": {},
   "outputs": [],
   "source": [
    "using Cbc\n",
    "using JuMP"
   ]
  },
  {
   "cell_type": "code",
   "execution_count": 21,
   "metadata": {},
   "outputs": [],
   "source": [
    "m = Model(Cbc.Optimizer);"
   ]
  },
  {
   "cell_type": "code",
   "execution_count": 22,
   "metadata": {},
   "outputs": [
    {
     "data": {
      "text/plain": [
       "(200, 400)"
      ]
     },
     "execution_count": 22,
     "metadata": {},
     "output_type": "execute_result"
    }
   ],
   "source": [
    "_, n = size(A)"
   ]
  },
  {
   "cell_type": "code",
   "execution_count": 23,
   "metadata": {},
   "outputs": [],
   "source": [
    "@variable(m, x[1:n]);"
   ]
  },
  {
   "cell_type": "code",
   "execution_count": 24,
   "metadata": {},
   "outputs": [],
   "source": [
    "@objective(m, Min, c ⋅ x);"
   ]
  },
  {
   "cell_type": "code",
   "execution_count": 25,
   "metadata": {},
   "outputs": [],
   "source": [
    "@constraint(m, c₁, (A*x) .== b)\n",
    "@constraint(m, c₂, x .>= 0);"
   ]
  },
  {
   "cell_type": "code",
   "execution_count": 26,
   "metadata": {},
   "outputs": [
    {
     "name": "stdout",
     "output_type": "stream",
     "text": [
      "Welcome to the CBC MILP Solver \n",
      "Version: 2.10.3 \n",
      "Build Date: Nov  9 2020 \n",
      "\n",
      "command line - Cbc_C_Interface -solve -quit (default strategy 1)\n",
      "Presolve 200 (-400) rows, 400 (0) columns and 80000 (-400) elements\n",
      "0  Obj 0 Primal inf 121144.51 (200)\n",
      "31  Obj 49016.959 Primal inf 777651.94 (196)\n",
      "83  Obj 56682.585 Primal inf 101920.43 (162)\n",
      "129  Obj 58937.939 Primal inf 30327.699 (138)\n",
      "168  Obj 59761.372 Primal inf 32926.964 (125)\n",
      "215  Obj 60599.785 Primal inf 14379.659 (118)\n",
      "254  Obj 61078.229 Primal inf 7252.9636 (103)\n",
      "295  Obj 61348.048 Primal inf 24775.935 (151)\n",
      "338  Obj 61477.017 Primal inf 2429.3571 (96)\n",
      "373  Obj 61569.237 Primal inf 2089.836 (109)\n",
      "409  Obj 61623.972 Primal inf 20.486258 (77)\n",
      "451  Obj 61646.552 Primal inf 9.8054744 (78)\n",
      "495  Obj 61658.68 Primal inf 2.3699585 (49)\n",
      "526  Obj 61662.207\n",
      "Optimal - objective value 61662.207\n",
      "After Postsolve, objective 61662.207, infeasibilities - dual 0 (0), primal 0 (0)\n",
      "Optimal objective 61662.20738 - 526 iterations time 0.402, Presolve 0.01\n",
      "Total time (CPU seconds):       0.40   (Wallclock seconds):       0.10\n",
      "\n"
     ]
    }
   ],
   "source": [
    "optimize!(m)"
   ]
  },
  {
   "cell_type": "code",
   "execution_count": 27,
   "metadata": {},
   "outputs": [
    {
     "data": {
      "text/plain": [
       "61662.20737937592"
      ]
     },
     "execution_count": 27,
     "metadata": {},
     "output_type": "execute_result"
    }
   ],
   "source": [
    "objective_value(m)"
   ]
  },
  {
   "cell_type": "code",
   "execution_count": 28,
   "metadata": {},
   "outputs": [
    {
     "data": {
      "text/plain": [
       "1.88606463780161e-10"
      ]
     },
     "execution_count": 28,
     "metadata": {},
     "output_type": "execute_result"
    }
   ],
   "source": [
    "sum(A * (value.(x)) - b)"
   ]
  },
  {
   "cell_type": "code",
   "execution_count": 29,
   "metadata": {},
   "outputs": [
    {
     "data": {
      "text/plain": [
       "-2.822988392381376e-5"
      ]
     },
     "execution_count": 29,
     "metadata": {},
     "output_type": "execute_result"
    }
   ],
   "source": [
    "sum(A * get(res, \"x\", 0) - b)"
   ]
  },
  {
   "cell_type": "code",
   "execution_count": 30,
   "metadata": {},
   "outputs": [
    {
     "data": {
      "text/plain": [
       "1.4424542314372957e-5"
      ]
     },
     "execution_count": 30,
     "metadata": {},
     "output_type": "execute_result"
    }
   ],
   "source": [
    "objective_value(m) - get(res, \"objective\", Inf)"
   ]
  },
  {
   "cell_type": "code",
   "execution_count": 31,
   "metadata": {},
   "outputs": [
    {
     "data": {
      "text/plain": [
       "400-element Array{Float64,1}:\n",
       "  7.442230609514104\n",
       "  2.2753235737966304\n",
       "  1.0008351632562793\n",
       "  5.499615466278851\n",
       "  0.0\n",
       " 11.010821838802634\n",
       "  6.594754547017535\n",
       "  0.0\n",
       "  3.5208371484182224\n",
       "  2.235899626614558\n",
       "  1.9974193960121958\n",
       "  8.456785530622705\n",
       "  0.5434404419111611\n",
       "  ⋮\n",
       "  4.914201813889566\n",
       "  0.0\n",
       "  1.1767689162003996\n",
       "  0.0\n",
       "  5.361576197840911\n",
       "  0.0\n",
       "  0.0\n",
       "  0.0\n",
       "  1.8614401879567786\n",
       "  0.9195388418637973\n",
       "  1.3335566746794496\n",
       "  0.0"
      ]
     },
     "execution_count": 31,
     "metadata": {},
     "output_type": "execute_result"
    }
   ],
   "source": [
    "value.(x)"
   ]
  },
  {
   "cell_type": "code",
   "execution_count": null,
   "metadata": {},
   "outputs": [],
   "source": []
  }
 ],
 "metadata": {
  "@webio": {
   "lastCommId": null,
   "lastKernelId": null
  },
  "kernelspec": {
   "display_name": "Julia 1.4.2",
   "language": "julia",
   "name": "julia-1.4"
  },
  "language_info": {
   "file_extension": ".jl",
   "mimetype": "application/julia",
   "name": "julia",
   "version": "1.4.2"
  }
 },
 "nbformat": 4,
 "nbformat_minor": 4
}
